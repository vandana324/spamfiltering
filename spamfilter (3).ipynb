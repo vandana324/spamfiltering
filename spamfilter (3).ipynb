{
 "cells": [
  {
   "cell_type": "code",
   "execution_count": 1,
   "id": "93c1e0f4-6c9c-434f-a552-482eeb5ee30b",
   "metadata": {},
   "outputs": [],
   "source": [
    "\n",
    "\n",
    "import numpy as np \n",
    "import pandas as pd \n",
    "\n",
    "\n",
    "\n"
   ]
  },
  {
   "cell_type": "code",
   "execution_count": 2,
   "id": "f85fc830-b990-40ac-835f-27f0cac9ca1d",
   "metadata": {},
   "outputs": [],
   "source": [
    "import matplotlib.pyplot as plt\n",
    "import seaborn as sns\n",
    "from sklearn.model_selection import train_test_split # easier to use this method than to split the dataset manually\n",
    "from sklearn.metrics import confusion_matrix, ConfusionMatrixDisplay, classification_report"
   ]
  },
  {
   "cell_type": "code",
   "execution_count": 4,
   "id": "964122fd-46f9-4ee6-991d-f52d70cb7877",
   "metadata": {},
   "outputs": [
    {
     "data": {
      "text/html": [
       "<div>\n",
       "<style scoped>\n",
       "    .dataframe tbody tr th:only-of-type {\n",
       "        vertical-align: middle;\n",
       "    }\n",
       "\n",
       "    .dataframe tbody tr th {\n",
       "        vertical-align: top;\n",
       "    }\n",
       "\n",
       "    .dataframe thead th {\n",
       "        text-align: right;\n",
       "    }\n",
       "</style>\n",
       "<table border=\"1\" class=\"dataframe\">\n",
       "  <thead>\n",
       "    <tr style=\"text-align: right;\">\n",
       "      <th></th>\n",
       "      <th>text</th>\n",
       "      <th>spam</th>\n",
       "    </tr>\n",
       "  </thead>\n",
       "  <tbody>\n",
       "    <tr>\n",
       "      <th>0</th>\n",
       "      <td>Subject: naturally irresistible your corporate...</td>\n",
       "      <td>1</td>\n",
       "    </tr>\n",
       "    <tr>\n",
       "      <th>1</th>\n",
       "      <td>Subject: the stock trading gunslinger  fanny i...</td>\n",
       "      <td>1</td>\n",
       "    </tr>\n",
       "    <tr>\n",
       "      <th>2</th>\n",
       "      <td>Subject: unbelievable new homes made easy  im ...</td>\n",
       "      <td>1</td>\n",
       "    </tr>\n",
       "    <tr>\n",
       "      <th>3</th>\n",
       "      <td>Subject: 4 color printing special  request add...</td>\n",
       "      <td>1</td>\n",
       "    </tr>\n",
       "    <tr>\n",
       "      <th>4</th>\n",
       "      <td>Subject: do not have money , get software cds ...</td>\n",
       "      <td>1</td>\n",
       "    </tr>\n",
       "  </tbody>\n",
       "</table>\n",
       "</div>"
      ],
      "text/plain": [
       "                                                text  spam\n",
       "0  Subject: naturally irresistible your corporate...     1\n",
       "1  Subject: the stock trading gunslinger  fanny i...     1\n",
       "2  Subject: unbelievable new homes made easy  im ...     1\n",
       "3  Subject: 4 color printing special  request add...     1\n",
       "4  Subject: do not have money , get software cds ...     1"
      ]
     },
     "execution_count": 4,
     "metadata": {},
     "output_type": "execute_result"
    }
   ],
   "source": [
    "df = pd.read_csv('emails.csv')\n",
    "df.head()"
   ]
  },
  {
   "cell_type": "code",
   "execution_count": 5,
   "id": "d1b5051b-fb1e-4631-b584-ca0e93b07530",
   "metadata": {},
   "outputs": [
    {
     "name": "stderr",
     "output_type": "stream",
     "text": [
      "C:\\Users\\vanda\\AppData\\Local\\Temp\\ipykernel_756\\1243383249.py:4: UserWarning: set_ticklabels() should only be used with a fixed number of ticks, i.e. after set_ticks() or using a FixedLocator.\n",
      "  ax.set_xticklabels(['ham', 'spam'])\n"
     ]
    },
    {
     "data": {
      "text/plain": [
       "[Text(0, 0, '4360'), Text(0, 0, '1368')]"
      ]
     },
     "execution_count": 5,
     "metadata": {},
     "output_type": "execute_result"
    },
    {
     "data": {
      "image/png": "[encoded data removed]",
      "text/plain": [
       "<Figure size 1000x600 with 1 Axes>"
      ]
     },
     "metadata": {},
     "output_type": "display_data"
    }
   ],
   "source": [
    "fig = plt.subplots(figsize=(10, 6))\n",
    "ax = sns.countplot(x='spam', data=df)\n",
    "ax.set_title('Nunber of spam and ham emails')\n",
    "ax.set_xticklabels(['ham', 'spam'])\n",
    "ax.bar_label(ax.containers[0])\n"
   ]
  },
  {
   "cell_type": "code",
   "execution_count": 6,
   "id": "83f7262e-b8b2-4284-8bc1-a407290c63bd",
   "metadata": {},
   "outputs": [
    {
     "data": {
      "text/html": [
       "<div>\n",
       "<style scoped>\n",
       "    .dataframe tbody tr th:only-of-type {\n",
       "        vertical-align: middle;\n",
       "    }\n",
       "\n",
       "    .dataframe tbody tr th {\n",
       "        vertical-align: top;\n",
       "    }\n",
       "\n",
       "    .dataframe thead th {\n",
       "        text-align: right;\n",
       "    }\n",
       "</style>\n",
       "<table border=\"1\" class=\"dataframe\">\n",
       "  <thead>\n",
       "    <tr style=\"text-align: right;\">\n",
       "      <th></th>\n",
       "      <th>text</th>\n",
       "      <th>spam</th>\n",
       "      <th>words</th>\n",
       "    </tr>\n",
       "  </thead>\n",
       "  <tbody>\n",
       "    <tr>\n",
       "      <th>0</th>\n",
       "      <td>Subject: naturally irresistible your corporate...</td>\n",
       "      <td>1</td>\n",
       "      <td>[logo, satisfaction, ciear, provided, t, our, ...</td>\n",
       "    </tr>\n",
       "    <tr>\n",
       "      <th>1</th>\n",
       "      <td>Subject: the stock trading gunslinger  fanny i...</td>\n",
       "      <td>1</td>\n",
       "      <td>[attire, segovia, attainder, libretto, gunslin...</td>\n",
       "    </tr>\n",
       "    <tr>\n",
       "      <th>2</th>\n",
       "      <td>Subject: unbelievable new homes made easy  im ...</td>\n",
       "      <td>1</td>\n",
       "      <td>[homeowner, of, approved, 169, easy, website, ...</td>\n",
       "    </tr>\n",
       "    <tr>\n",
       "      <th>3</th>\n",
       "      <td>Subject: 4 color printing special  request add...</td>\n",
       "      <td>1</td>\n",
       "      <td>[phone, solicitation, of, special, additional,...</td>\n",
       "    </tr>\n",
       "    <tr>\n",
       "      <th>4</th>\n",
       "      <td>Subject: do not have money , get software cds ...</td>\n",
       "      <td>1</td>\n",
       "      <td>[comedies, cds, do, with, t, not, marriage, be...</td>\n",
       "    </tr>\n",
       "  </tbody>\n",
       "</table>\n",
       "</div>"
      ],
      "text/plain": [
       "                                                text  spam  \\\n",
       "0  Subject: naturally irresistible your corporate...     1   \n",
       "1  Subject: the stock trading gunslinger  fanny i...     1   \n",
       "2  Subject: unbelievable new homes made easy  im ...     1   \n",
       "3  Subject: 4 color printing special  request add...     1   \n",
       "4  Subject: do not have money , get software cds ...     1   \n",
       "\n",
       "                                               words  \n",
       "0  [logo, satisfaction, ciear, provided, t, our, ...  \n",
       "1  [attire, segovia, attainder, libretto, gunslin...  \n",
       "2  [homeowner, of, approved, 169, easy, website, ...  \n",
       "3  [phone, solicitation, of, special, additional,...  \n",
       "4  [comedies, cds, do, with, t, not, marriage, be...  "
      ]
     },
     "execution_count": 6,
     "metadata": {},
     "output_type": "execute_result"
    }
   ],
   "source": [
    "df['words'] = df['text'].apply(lambda text: list(set(text.lower().split())))\n",
    "df.head()"
   ]
  },
  {
   "cell_type": "code",
   "execution_count": 7,
   "id": "c5ed2cc4-8dd7-4bb7-b39d-806300640daa",
   "metadata": {},
   "outputs": [
    {
     "data": {
      "text/html": [
       "<div>\n",
       "<style scoped>\n",
       "    .dataframe tbody tr th:only-of-type {\n",
       "        vertical-align: middle;\n",
       "    }\n",
       "\n",
       "    .dataframe tbody tr th {\n",
       "        vertical-align: top;\n",
       "    }\n",
       "\n",
       "    .dataframe thead th {\n",
       "        text-align: right;\n",
       "    }\n",
       "</style>\n",
       "<table border=\"1\" class=\"dataframe\">\n",
       "  <thead>\n",
       "    <tr style=\"text-align: right;\">\n",
       "      <th></th>\n",
       "      <th>text</th>\n",
       "      <th>spam</th>\n",
       "      <th>words</th>\n",
       "      <th>spam_worded</th>\n",
       "    </tr>\n",
       "  </thead>\n",
       "  <tbody>\n",
       "    <tr>\n",
       "      <th>0</th>\n",
       "      <td>Subject: naturally irresistible your corporate...</td>\n",
       "      <td>1</td>\n",
       "      <td>[logo, satisfaction, ciear, provided, t, our, ...</td>\n",
       "      <td>spam</td>\n",
       "    </tr>\n",
       "    <tr>\n",
       "      <th>1</th>\n",
       "      <td>Subject: the stock trading gunslinger  fanny i...</td>\n",
       "      <td>1</td>\n",
       "      <td>[attire, segovia, attainder, libretto, gunslin...</td>\n",
       "      <td>spam</td>\n",
       "    </tr>\n",
       "    <tr>\n",
       "      <th>2</th>\n",
       "      <td>Subject: unbelievable new homes made easy  im ...</td>\n",
       "      <td>1</td>\n",
       "      <td>[homeowner, of, approved, 169, easy, website, ...</td>\n",
       "      <td>spam</td>\n",
       "    </tr>\n",
       "    <tr>\n",
       "      <th>3</th>\n",
       "      <td>Subject: 4 color printing special  request add...</td>\n",
       "      <td>1</td>\n",
       "      <td>[phone, solicitation, of, special, additional,...</td>\n",
       "      <td>spam</td>\n",
       "    </tr>\n",
       "    <tr>\n",
       "      <th>4</th>\n",
       "      <td>Subject: do not have money , get software cds ...</td>\n",
       "      <td>1</td>\n",
       "      <td>[comedies, cds, do, with, t, not, marriage, be...</td>\n",
       "      <td>spam</td>\n",
       "    </tr>\n",
       "  </tbody>\n",
       "</table>\n",
       "</div>"
      ],
      "text/plain": [
       "                                                text  spam  \\\n",
       "0  Subject: naturally irresistible your corporate...     1   \n",
       "1  Subject: the stock trading gunslinger  fanny i...     1   \n",
       "2  Subject: unbelievable new homes made easy  im ...     1   \n",
       "3  Subject: 4 color printing special  request add...     1   \n",
       "4  Subject: do not have money , get software cds ...     1   \n",
       "\n",
       "                                               words spam_worded  \n",
       "0  [logo, satisfaction, ciear, provided, t, our, ...        spam  \n",
       "1  [attire, segovia, attainder, libretto, gunslin...        spam  \n",
       "2  [homeowner, of, approved, 169, easy, website, ...        spam  \n",
       "3  [phone, solicitation, of, special, additional,...        spam  \n",
       "4  [comedies, cds, do, with, t, not, marriage, be...        spam  "
      ]
     },
     "execution_count": 7,
     "metadata": {},
     "output_type": "execute_result"
    }
   ],
   "source": [
    "df['spam_worded'] = df['spam'].apply(lambda x: 'spam' if x == 1 else 'ham')\n",
    "df.head()"
   ]
  },
  {
   "cell_type": "code",
   "execution_count": 8,
   "id": "c5230d26-d07b-49eb-9f19-ad3bcd5849cf",
   "metadata": {},
   "outputs": [
    {
     "data": {
      "text/plain": [
       "{'logo': {'spam': 97, 'ham': 13},\n",
       " 'satisfaction': {'spam': 63, 'ham': 7},\n",
       " 'ciear': {'spam': 10, 'ham': 1},\n",
       " 'provided': {'spam': 109, 'ham': 113},\n",
       " 't': {'spam': 334, 'ham': 748}}"
      ]
     },
     "execution_count": 8,
     "metadata": {},
     "output_type": "execute_result"
    }
   ],
   "source": [
    "word_frequency = {}\n",
    "\n",
    "for ind in df.index:\n",
    "    for word in df['words'][ind]:\n",
    "        if word not in word_frequency:\n",
    "#             word_frequency[word] = {'spam': 0, 'ham': 0}\n",
    "            word_frequency[word] = {'spam': 1, 'ham': 1} # You can start with one of each to prevent division by 0 later on.\n",
    "        word_frequency[word][df['spam_worded'][ind]] +=1\n",
    "        \n",
    "dict(list(word_frequency.items())[:5])"
   ]
  },
  {
   "cell_type": "code",
   "execution_count": 9,
   "id": "0b804645-8d8e-4237-a21b-c63fdc2aaa37",
   "metadata": {},
   "outputs": [],
   "source": [
    "Pspam = df[df['spam'] == 1].shape[0] / df.shape[0]\n",
    "Pham = df[df['spam'] == 0].shape[0] / df.shape[0]\n",
    "NbSpam = df[df['spam'] == 1].shape[0]\n",
    "NbHam = df[df['spam'] == 0].shape[0]"
   ]
  },
  {
   "cell_type": "code",
   "execution_count": 10,
   "id": "a6f7ce35-23f4-4a62-9437-2242383dbb8d",
   "metadata": {},
   "outputs": [],
   "source": [
    "def predict(email):\n",
    "    words = set(email.lower().split())\n",
    "    PxSpam = 1.0\n",
    "    PxHam = 1.0\n",
    "    for word in words:\n",
    "        if word in word_frequency:\n",
    "\n",
    "            PxSpam *= word_frequency[word]['spam'] / NbSpam\n",
    "\n",
    "            PxHam *= word_frequency[word]['ham'] / NbHam\n",
    "\n",
    "    Px = Pspam * PxSpam + Pham * PxHam\n",
    "\n",
    "    P_Spam_x = Pspam * PxSpam / Px\n",
    "    \n",
    "    return print(f'The email \\\"{email}\\\" has a {round(P_Spam_x*100, 3)}% chance of being spam.')"
   ]
  },
  {
   "cell_type": "code",
   "execution_count": 11,
   "id": "13999e63-d6f7-413d-9cb3-12f13d3bf122",
   "metadata": {},
   "outputs": [],
   "source": [
    "X = df.drop(['spam'], axis=1)\n",
    "y = df['spam']\n",
    "X_train, X_test, y_train, y_test = train_test_split(X, y, test_size = 0.2, random_state = 42)"
   ]
  },
  {
   "cell_type": "code",
   "execution_count": 12,
   "id": "2f7754e5-a169-4e24-bf6f-156ef154d03b",
   "metadata": {},
   "outputs": [
    {
     "name": "stderr",
     "output_type": "stream",
     "text": [
      "C:\\Users\\vanda\\AppData\\Local\\Temp\\ipykernel_756\\1909132258.py:30: RuntimeWarning: invalid value encountered in scalar divide\n",
      "  P_Spam_x = train_Pspam * PxSpam / Px\n"
     ]
    }
   ],
   "source": [
    "train_word_frequency = {}\n",
    "for ind in X_train.index:\n",
    "    for word in X_train['words'][ind]:\n",
    "        if word not in train_word_frequency:\n",
    "            train_word_frequency[word] = {'spam': 1, 'ham': 1}\n",
    "        train_word_frequency[word][X_train['spam_worded'][ind]] +=1\n",
    "        \n",
    "\n",
    "train_Pspam = y_train.value_counts()[1] / y_train.shape[0]\n",
    "train_Pham = y_train.value_counts()[0] / y_train.shape[0]\n",
    "train_NbSpam = y_train.value_counts()[1] \n",
    "train_NbHam = y_train.value_counts()[0]\n",
    "\n",
    "def predict_2(words):\n",
    "    PxSpam = 1.0\n",
    "    PxHam = 1.0\n",
    "    for word in words:\n",
    "        if word in train_word_frequency:\n",
    "            \n",
    "            PxSpam *= train_word_frequency[word]['spam'] / train_NbSpam\n",
    "            \n",
    "            PxHam *= train_word_frequency[word]['ham'] / train_NbHam\n",
    "            \n",
    "   \n",
    "    Px = train_Pspam * PxSpam + train_Pham * PxHam    \n",
    "    \n",
    "    \n",
    "    P_Spam_x = train_Pspam * PxSpam / Px\n",
    "    \n",
    "    return 1 if P_Spam_x > 0.5 else 0\n",
    "\n",
    "y_pred = X_test['words'].apply(predict_2)"
   ]
  },
  {
   "cell_type": "code",
   "execution_count": 13,
   "id": "ab0b0715-018e-4789-8af1-0c61fd1c5fa4",
   "metadata": {},
   "outputs": [
    {
     "data": {
      "image/png": "[encoded data removed]",
      "text/plain": [
       "<Figure size 640x480 with 2 Axes>"
      ]
     },
     "metadata": {},
     "output_type": "display_data"
    },
    {
     "name": "stdout",
     "output_type": "stream",
     "text": [
      "              precision    recall  f1-score   support\n",
      "\n",
      "     ham (0)       0.96      1.00      0.98       856\n",
      "    spam (1)       1.00      0.87      0.93       290\n",
      "\n",
      "    accuracy                           0.97      1146\n",
      "   macro avg       0.98      0.93      0.95      1146\n",
      "weighted avg       0.97      0.97      0.97      1146\n",
      "\n"
     ]
    }
   ],
   "source": [
    "cm = confusion_matrix(y_test, y_pred)\n",
    "cmplot = ConfusionMatrixDisplay(confusion_matrix=cm, display_labels = ['ham (0)', 'spam (1)'])\n",
    "cmplot.plot()\n",
    "plt.show()\n",
    "\n",
    "print(classification_report(y_test, y_pred, target_names = ['ham (0)', 'spam (1)']))"
   ]
  },
  {
   "cell_type": "code",
   "execution_count": null,
   "id": "7bef1d79-2c9f-4236-a0b0-d12293e53d1a",
   "metadata": {},
   "outputs": [],
   "source": []
  }
 ],
 "metadata": {
  "kernelspec": {
   "display_name": "Python 3 (ipykernel)",
   "language": "python",
   "name": "python3"
  },
  "language_info": {
   "codemirror_mode": {
    "name": "ipython",
    "version": 3
   },
   "file_extension": ".py",
   "mimetype": "text/x-python",
   "name": "python",
   "nbconvert_exporter": "python",
   "pygments_lexer": "ipython3",
   "version": "3.11.9"
  }
 },
 "nbformat": 4,
 "nbformat_minor": 5
}
